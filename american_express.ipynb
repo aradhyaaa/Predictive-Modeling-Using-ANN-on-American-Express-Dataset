{
 "cells": [
  {
   "cell_type": "code",
   "execution_count": 1,
   "metadata": {},
   "outputs": [
    {
     "name": "stdout",
     "output_type": "stream",
     "text": [
      "WARNING:tensorflow:From c:\\Users\\aradh\\AppData\\Local\\Programs\\Python\\Python311\\Lib\\site-packages\\keras\\src\\losses.py:2976: The name tf.losses.sparse_softmax_cross_entropy is deprecated. Please use tf.compat.v1.losses.sparse_softmax_cross_entropy instead.\n",
      "\n"
     ]
    }
   ],
   "source": [
    "import numpy as np\n",
    "import pandas as pd\n",
    "import tensorflow as tf"
   ]
  },
  {
   "cell_type": "code",
   "execution_count": 2,
   "metadata": {},
   "outputs": [],
   "source": [
    "df = pd.read_csv(\"american.csv\")"
   ]
  },
  {
   "cell_type": "code",
   "execution_count": 8,
   "metadata": {},
   "outputs": [],
   "source": [
    "x = df.iloc[:, :-1].values\n",
    "y = df.iloc[:, -1].values"
   ]
  },
  {
   "cell_type": "code",
   "execution_count": 6,
   "metadata": {},
   "outputs": [],
   "source": [
    "from sklearn.preprocessing import LabelEncoder\n",
    "from sklearn.preprocessing import OneHotEncoder"
   ]
  },
  {
   "cell_type": "code",
   "execution_count": 9,
   "metadata": {},
   "outputs": [],
   "source": [
    "le = LabelEncoder()\n",
    "x[:,2] = le.fit_transform(x[:,2])"
   ]
  },
  {
   "cell_type": "code",
   "execution_count": 10,
   "metadata": {},
   "outputs": [
    {
     "data": {
      "text/plain": [
       "array([[553.0, 'Delhi', 0, ..., 4.0, 1.0, 274150.0],\n",
       "       [447.0, 'Bengaluru', 1, ..., 4.0, 1.0, 519360.0],\n",
       "       [501.0, 'Delhi', 0, ..., 4.0, 1.0, 545501.0],\n",
       "       ...,\n",
       "       [600.0, 'Bengaluru', 0, ..., 2.0, 1.0, 109375.0],\n",
       "       [553.0, 'Delhi', 1, ..., 4.0, 1.0, 180031.0],\n",
       "       [nan, nan, 2, ..., nan, nan, nan]], dtype=object)"
      ]
     },
     "execution_count": 10,
     "metadata": {},
     "output_type": "execute_result"
    }
   ],
   "source": [
    "x"
   ]
  },
  {
   "cell_type": "code",
   "execution_count": 11,
   "metadata": {},
   "outputs": [],
   "source": [
    "from sklearn.compose import ColumnTransformer\n",
    "from sklearn.preprocessing import OneHotEncoder\n",
    "\n",
    "ct = ColumnTransformer(transformers=[('encoder',OneHotEncoder(), [1])], remainder= 'passthrough')\n",
    "x = np.array(ct.fit_transform(x))"
   ]
  },
  {
   "cell_type": "code",
   "execution_count": 12,
   "metadata": {},
   "outputs": [
    {
     "name": "stdout",
     "output_type": "stream",
     "text": [
      "[[0.0 1.0 0.0 ... 4.0 1.0 274150.0]\n",
      " [1.0 0.0 0.0 ... 4.0 1.0 519360.0]\n",
      " [0.0 1.0 0.0 ... 4.0 1.0 545501.0]\n",
      " ...\n",
      " [1.0 0.0 0.0 ... 2.0 1.0 109375.0]\n",
      " [0.0 1.0 0.0 ... 4.0 1.0 180031.0]\n",
      " [0.0 0.0 0.0 ... nan nan nan]]\n"
     ]
    }
   ],
   "source": [
    "print(x)"
   ]
  },
  {
   "cell_type": "code",
   "execution_count": 13,
   "metadata": {},
   "outputs": [],
   "source": [
    "from sklearn.model_selection import train_test_split\n",
    "\n",
    "x_train, x_test, y_train, y_test = train_test_split(x, y, test_size = 0.2, random_state = 42)"
   ]
  },
  {
   "cell_type": "code",
   "execution_count": 33,
   "metadata": {},
   "outputs": [],
   "source": [
    "from sklearn.preprocessing import StandardScaler\n",
    "sc = StandardScaler()\n",
    "x_train = sc.fit_transform(x_train)\n",
    "x_test = sc.fit_transform(x_test)"
   ]
  },
  {
   "cell_type": "code",
   "execution_count": 34,
   "metadata": {},
   "outputs": [],
   "source": [
    "ann = tf.keras.models.Sequential()"
   ]
  },
  {
   "cell_type": "code",
   "execution_count": 35,
   "metadata": {},
   "outputs": [],
   "source": [
    "ann.add(tf.keras.layers.Dense(units = 5,activation = 'relu' ))#input"
   ]
  },
  {
   "cell_type": "code",
   "execution_count": 36,
   "metadata": {},
   "outputs": [],
   "source": [
    "ann.add(tf.keras.layers.Dense(units = 5,activation = 'relu' ))#hidden layer"
   ]
  },
  {
   "cell_type": "code",
   "execution_count": 59,
   "metadata": {},
   "outputs": [],
   "source": [
    "ann.add(tf.keras.layers.Dense(units = 1,activation = 'sigmoid' ))"
   ]
  },
  {
   "cell_type": "code",
   "execution_count": 38,
   "metadata": {},
   "outputs": [],
   "source": [
    "ann.compile(optimizer='adam', loss='binary_crossentropy', metrics=['accuracy'])"
   ]
  },
  {
   "cell_type": "code",
   "execution_count": 61,
   "metadata": {},
   "outputs": [
    {
     "name": "stdout",
     "output_type": "stream",
     "text": [
      "Epoch 1/120\n",
      "249/249 [==============================] - 0s 1ms/step - loss: 0.3844 - accuracy: 0.8315\n",
      "Epoch 2/120\n",
      "249/249 [==============================] - 0s 1ms/step - loss: 0.3838 - accuracy: 0.8316\n",
      "Epoch 3/120\n",
      "249/249 [==============================] - 0s 1ms/step - loss: 0.3832 - accuracy: 0.8326\n",
      "Epoch 4/120\n",
      "249/249 [==============================] - 0s 1ms/step - loss: 0.3831 - accuracy: 0.8314\n",
      "Epoch 5/120\n",
      "249/249 [==============================] - 0s 1ms/step - loss: 0.3825 - accuracy: 0.8316\n",
      "Epoch 6/120\n",
      "249/249 [==============================] - 0s 1ms/step - loss: 0.3822 - accuracy: 0.8330\n",
      "Epoch 7/120\n",
      "249/249 [==============================] - 0s 1ms/step - loss: 0.3818 - accuracy: 0.8325\n",
      "Epoch 8/120\n",
      "249/249 [==============================] - 0s 1ms/step - loss: 0.3817 - accuracy: 0.8329\n",
      "Epoch 9/120\n",
      "249/249 [==============================] - 0s 1ms/step - loss: 0.3814 - accuracy: 0.8326\n",
      "Epoch 10/120\n",
      "249/249 [==============================] - 0s 1ms/step - loss: 0.3810 - accuracy: 0.8330\n",
      "Epoch 11/120\n",
      "249/249 [==============================] - 0s 1ms/step - loss: 0.3807 - accuracy: 0.8324\n",
      "Epoch 12/120\n",
      "249/249 [==============================] - 0s 1ms/step - loss: 0.3806 - accuracy: 0.8320\n",
      "Epoch 13/120\n",
      "249/249 [==============================] - 0s 1ms/step - loss: 0.3802 - accuracy: 0.8314\n",
      "Epoch 14/120\n",
      "249/249 [==============================] - 0s 1ms/step - loss: 0.3803 - accuracy: 0.8315\n",
      "Epoch 15/120\n",
      "249/249 [==============================] - 0s 1ms/step - loss: 0.3796 - accuracy: 0.8326\n",
      "Epoch 16/120\n",
      "249/249 [==============================] - 0s 1ms/step - loss: 0.3798 - accuracy: 0.8320\n",
      "Epoch 17/120\n",
      "249/249 [==============================] - 0s 1ms/step - loss: 0.3796 - accuracy: 0.8318\n",
      "Epoch 18/120\n",
      "249/249 [==============================] - 0s 1ms/step - loss: 0.3794 - accuracy: 0.8320\n",
      "Epoch 19/120\n",
      "249/249 [==============================] - 0s 1ms/step - loss: 0.3791 - accuracy: 0.8324\n",
      "Epoch 20/120\n",
      "249/249 [==============================] - 0s 1ms/step - loss: 0.3789 - accuracy: 0.8308\n",
      "Epoch 21/120\n",
      "249/249 [==============================] - 0s 1ms/step - loss: 0.3786 - accuracy: 0.8333\n",
      "Epoch 22/120\n",
      "249/249 [==============================] - 0s 990us/step - loss: 0.3785 - accuracy: 0.8304\n",
      "Epoch 23/120\n",
      "249/249 [==============================] - 0s 1ms/step - loss: 0.3778 - accuracy: 0.8329\n",
      "Epoch 24/120\n",
      "249/249 [==============================] - 0s 1ms/step - loss: 0.3780 - accuracy: 0.8326\n",
      "Epoch 25/120\n",
      "249/249 [==============================] - 0s 1ms/step - loss: 0.3778 - accuracy: 0.8314\n",
      "Epoch 26/120\n",
      "249/249 [==============================] - 0s 1ms/step - loss: 0.3775 - accuracy: 0.8323\n",
      "Epoch 27/120\n",
      "249/249 [==============================] - 0s 1ms/step - loss: 0.3769 - accuracy: 0.8339\n",
      "Epoch 28/120\n",
      "249/249 [==============================] - 0s 1ms/step - loss: 0.3769 - accuracy: 0.8343\n",
      "Epoch 29/120\n",
      "249/249 [==============================] - 0s 1ms/step - loss: 0.3763 - accuracy: 0.8344\n",
      "Epoch 30/120\n",
      "249/249 [==============================] - 0s 1ms/step - loss: 0.3763 - accuracy: 0.8353\n",
      "Epoch 31/120\n",
      "249/249 [==============================] - 0s 1ms/step - loss: 0.3759 - accuracy: 0.8348\n",
      "Epoch 32/120\n",
      "249/249 [==============================] - 0s 1ms/step - loss: 0.3750 - accuracy: 0.8354\n",
      "Epoch 33/120\n",
      "249/249 [==============================] - 0s 1ms/step - loss: 0.3748 - accuracy: 0.8379\n",
      "Epoch 34/120\n",
      "249/249 [==============================] - 0s 1ms/step - loss: 0.3742 - accuracy: 0.8381\n",
      "Epoch 35/120\n",
      "249/249 [==============================] - 0s 996us/step - loss: 0.3738 - accuracy: 0.8381\n",
      "Epoch 36/120\n",
      "249/249 [==============================] - 0s 1ms/step - loss: 0.3735 - accuracy: 0.8387\n",
      "Epoch 37/120\n",
      "249/249 [==============================] - 0s 1ms/step - loss: 0.3732 - accuracy: 0.8394\n",
      "Epoch 38/120\n",
      "249/249 [==============================] - 0s 1ms/step - loss: 0.3725 - accuracy: 0.8394\n",
      "Epoch 39/120\n",
      "249/249 [==============================] - 0s 1ms/step - loss: 0.3720 - accuracy: 0.8397\n",
      "Epoch 40/120\n",
      "249/249 [==============================] - 0s 1ms/step - loss: 0.3715 - accuracy: 0.8408\n",
      "Epoch 41/120\n",
      "249/249 [==============================] - 0s 1ms/step - loss: 0.3713 - accuracy: 0.8407\n",
      "Epoch 42/120\n",
      "249/249 [==============================] - 0s 1ms/step - loss: 0.3707 - accuracy: 0.8408\n",
      "Epoch 43/120\n",
      "249/249 [==============================] - 0s 1ms/step - loss: 0.3707 - accuracy: 0.8406\n",
      "Epoch 44/120\n",
      "249/249 [==============================] - 0s 1ms/step - loss: 0.3697 - accuracy: 0.8415\n",
      "Epoch 45/120\n",
      "249/249 [==============================] - 0s 1ms/step - loss: 0.3692 - accuracy: 0.8431\n",
      "Epoch 46/120\n",
      "249/249 [==============================] - 0s 1ms/step - loss: 0.3683 - accuracy: 0.8430\n",
      "Epoch 47/120\n",
      "249/249 [==============================] - 0s 1ms/step - loss: 0.3677 - accuracy: 0.8435\n",
      "Epoch 48/120\n",
      "249/249 [==============================] - 0s 1ms/step - loss: 0.3671 - accuracy: 0.8449\n",
      "Epoch 49/120\n",
      "249/249 [==============================] - 0s 1ms/step - loss: 0.3666 - accuracy: 0.8446\n",
      "Epoch 50/120\n",
      "249/249 [==============================] - 0s 1ms/step - loss: 0.3660 - accuracy: 0.8464\n",
      "Epoch 51/120\n",
      "249/249 [==============================] - 0s 1ms/step - loss: 0.3659 - accuracy: 0.8461\n",
      "Epoch 52/120\n",
      "249/249 [==============================] - 0s 1ms/step - loss: 0.3648 - accuracy: 0.8470\n",
      "Epoch 53/120\n",
      "249/249 [==============================] - 0s 1ms/step - loss: 0.3645 - accuracy: 0.8450\n",
      "Epoch 54/120\n",
      "249/249 [==============================] - 0s 1ms/step - loss: 0.3647 - accuracy: 0.8457\n",
      "Epoch 55/120\n",
      "249/249 [==============================] - 0s 1ms/step - loss: 0.3643 - accuracy: 0.8459\n",
      "Epoch 56/120\n",
      "249/249 [==============================] - 0s 1ms/step - loss: 0.3641 - accuracy: 0.8457\n",
      "Epoch 57/120\n",
      "249/249 [==============================] - 0s 1ms/step - loss: 0.3637 - accuracy: 0.8461\n",
      "Epoch 58/120\n",
      "249/249 [==============================] - 0s 1ms/step - loss: 0.3633 - accuracy: 0.8460\n",
      "Epoch 59/120\n",
      "249/249 [==============================] - 0s 1ms/step - loss: 0.3630 - accuracy: 0.8459\n",
      "Epoch 60/120\n",
      "249/249 [==============================] - 0s 1ms/step - loss: 0.3630 - accuracy: 0.8485\n",
      "Epoch 61/120\n",
      "249/249 [==============================] - 0s 1ms/step - loss: 0.3628 - accuracy: 0.8449\n",
      "Epoch 62/120\n",
      "249/249 [==============================] - 0s 1ms/step - loss: 0.3624 - accuracy: 0.8461\n",
      "Epoch 63/120\n",
      "249/249 [==============================] - 0s 1ms/step - loss: 0.3621 - accuracy: 0.8474\n",
      "Epoch 64/120\n",
      "249/249 [==============================] - 0s 1ms/step - loss: 0.3620 - accuracy: 0.8461\n",
      "Epoch 65/120\n",
      "249/249 [==============================] - 0s 1ms/step - loss: 0.3616 - accuracy: 0.8464\n",
      "Epoch 66/120\n",
      "249/249 [==============================] - 0s 1ms/step - loss: 0.3613 - accuracy: 0.8457\n",
      "Epoch 67/120\n",
      "249/249 [==============================] - 0s 1ms/step - loss: 0.3614 - accuracy: 0.8459\n",
      "Epoch 68/120\n",
      "249/249 [==============================] - 0s 1ms/step - loss: 0.3612 - accuracy: 0.8472\n",
      "Epoch 69/120\n",
      "249/249 [==============================] - 0s 1ms/step - loss: 0.3606 - accuracy: 0.8475\n",
      "Epoch 70/120\n",
      "249/249 [==============================] - 0s 990us/step - loss: 0.3607 - accuracy: 0.8464\n",
      "Epoch 71/120\n",
      "249/249 [==============================] - 0s 1ms/step - loss: 0.3607 - accuracy: 0.8471\n",
      "Epoch 72/120\n",
      "249/249 [==============================] - 0s 981us/step - loss: 0.3601 - accuracy: 0.8461\n",
      "Epoch 73/120\n",
      "249/249 [==============================] - 0s 1ms/step - loss: 0.3601 - accuracy: 0.8485\n",
      "Epoch 74/120\n",
      "249/249 [==============================] - 0s 1ms/step - loss: 0.3601 - accuracy: 0.8466\n",
      "Epoch 75/120\n",
      "249/249 [==============================] - 0s 1ms/step - loss: 0.3599 - accuracy: 0.8461\n",
      "Epoch 76/120\n",
      "249/249 [==============================] - 0s 1ms/step - loss: 0.3598 - accuracy: 0.8480\n",
      "Epoch 77/120\n",
      "249/249 [==============================] - 0s 1ms/step - loss: 0.3595 - accuracy: 0.8498\n",
      "Epoch 78/120\n",
      "249/249 [==============================] - 0s 1ms/step - loss: 0.3592 - accuracy: 0.8470\n",
      "Epoch 79/120\n",
      "249/249 [==============================] - 0s 1ms/step - loss: 0.3590 - accuracy: 0.8474\n",
      "Epoch 80/120\n",
      "249/249 [==============================] - 0s 1ms/step - loss: 0.3590 - accuracy: 0.8503\n",
      "Epoch 81/120\n",
      "249/249 [==============================] - 0s 1ms/step - loss: 0.3582 - accuracy: 0.8488\n",
      "Epoch 82/120\n",
      "249/249 [==============================] - 0s 1ms/step - loss: 0.3582 - accuracy: 0.8474\n",
      "Epoch 83/120\n",
      "249/249 [==============================] - 0s 1ms/step - loss: 0.3581 - accuracy: 0.8498\n",
      "Epoch 84/120\n",
      "249/249 [==============================] - 0s 1ms/step - loss: 0.3578 - accuracy: 0.8486\n",
      "Epoch 85/120\n",
      "249/249 [==============================] - 0s 1ms/step - loss: 0.3576 - accuracy: 0.8494\n",
      "Epoch 86/120\n",
      "249/249 [==============================] - 0s 1ms/step - loss: 0.3572 - accuracy: 0.8485\n",
      "Epoch 87/120\n",
      "249/249 [==============================] - 0s 1000us/step - loss: 0.3574 - accuracy: 0.8500\n",
      "Epoch 88/120\n",
      "249/249 [==============================] - 0s 1ms/step - loss: 0.3574 - accuracy: 0.8499\n",
      "Epoch 89/120\n",
      "249/249 [==============================] - 0s 1ms/step - loss: 0.3570 - accuracy: 0.8503\n",
      "Epoch 90/120\n",
      "249/249 [==============================] - 0s 1ms/step - loss: 0.3567 - accuracy: 0.8506\n",
      "Epoch 91/120\n",
      "249/249 [==============================] - 0s 1ms/step - loss: 0.3567 - accuracy: 0.8493\n",
      "Epoch 92/120\n",
      "249/249 [==============================] - 0s 1ms/step - loss: 0.3562 - accuracy: 0.8510\n",
      "Epoch 93/120\n",
      "249/249 [==============================] - 0s 1ms/step - loss: 0.3568 - accuracy: 0.8499\n",
      "Epoch 94/120\n",
      "249/249 [==============================] - 0s 1ms/step - loss: 0.3564 - accuracy: 0.8503\n",
      "Epoch 95/120\n",
      "249/249 [==============================] - 0s 1ms/step - loss: 0.3565 - accuracy: 0.8504\n",
      "Epoch 96/120\n",
      "249/249 [==============================] - 0s 1ms/step - loss: 0.3565 - accuracy: 0.8522\n",
      "Epoch 97/120\n",
      "249/249 [==============================] - 0s 1ms/step - loss: 0.3562 - accuracy: 0.8494\n",
      "Epoch 98/120\n",
      "249/249 [==============================] - 0s 1ms/step - loss: 0.3561 - accuracy: 0.8510\n",
      "Epoch 99/120\n",
      "249/249 [==============================] - 0s 1ms/step - loss: 0.3563 - accuracy: 0.8509\n",
      "Epoch 100/120\n",
      "249/249 [==============================] - 0s 1ms/step - loss: 0.3559 - accuracy: 0.8509\n",
      "Epoch 101/120\n",
      "249/249 [==============================] - 0s 1ms/step - loss: 0.3556 - accuracy: 0.8517\n",
      "Epoch 102/120\n",
      "249/249 [==============================] - 0s 1ms/step - loss: 0.3558 - accuracy: 0.8508\n",
      "Epoch 103/120\n",
      "249/249 [==============================] - 0s 983us/step - loss: 0.3557 - accuracy: 0.8506\n",
      "Epoch 104/120\n",
      "249/249 [==============================] - 0s 1ms/step - loss: 0.3555 - accuracy: 0.8514\n",
      "Epoch 105/120\n",
      "249/249 [==============================] - 0s 976us/step - loss: 0.3553 - accuracy: 0.8513\n",
      "Epoch 106/120\n",
      "249/249 [==============================] - 0s 1ms/step - loss: 0.3556 - accuracy: 0.8517\n",
      "Epoch 107/120\n",
      "249/249 [==============================] - 0s 1ms/step - loss: 0.3558 - accuracy: 0.8512\n",
      "Epoch 108/120\n",
      "249/249 [==============================] - 0s 1ms/step - loss: 0.3560 - accuracy: 0.8499\n",
      "Epoch 109/120\n",
      "249/249 [==============================] - 0s 1ms/step - loss: 0.3553 - accuracy: 0.8503\n",
      "Epoch 110/120\n",
      "249/249 [==============================] - 0s 973us/step - loss: 0.3551 - accuracy: 0.8501\n",
      "Epoch 111/120\n",
      "249/249 [==============================] - 0s 1ms/step - loss: 0.3553 - accuracy: 0.8524\n",
      "Epoch 112/120\n",
      "249/249 [==============================] - 0s 970us/step - loss: 0.3549 - accuracy: 0.8513\n",
      "Epoch 113/120\n",
      "249/249 [==============================] - 0s 1ms/step - loss: 0.3551 - accuracy: 0.8514\n",
      "Epoch 114/120\n",
      "249/249 [==============================] - 0s 1ms/step - loss: 0.3549 - accuracy: 0.8512\n",
      "Epoch 115/120\n",
      "249/249 [==============================] - 0s 1ms/step - loss: 0.3545 - accuracy: 0.8508\n",
      "Epoch 116/120\n",
      "249/249 [==============================] - 0s 1ms/step - loss: 0.3551 - accuracy: 0.8523\n",
      "Epoch 117/120\n",
      "249/249 [==============================] - 0s 1ms/step - loss: 0.3548 - accuracy: 0.8515\n",
      "Epoch 118/120\n",
      "249/249 [==============================] - 0s 1ms/step - loss: 0.3551 - accuracy: 0.8504\n",
      "Epoch 119/120\n",
      "249/249 [==============================] - 0s 1ms/step - loss: 0.3546 - accuracy: 0.8510\n",
      "Epoch 120/120\n",
      "249/249 [==============================] - 0s 1ms/step - loss: 0.3544 - accuracy: 0.8518\n"
     ]
    },
    {
     "data": {
      "text/plain": [
       "<keras.src.callbacks.History at 0x1b55cf01090>"
      ]
     },
     "execution_count": 61,
     "metadata": {},
     "output_type": "execute_result"
    }
   ],
   "source": [
    "ann.fit(x_train, y_train, batch_size=32, epochs=120)"
   ]
  },
  {
   "cell_type": "code",
   "execution_count": 62,
   "metadata": {},
   "outputs": [
    {
     "name": "stdout",
     "output_type": "stream",
     "text": [
      "63/63 [==============================] - 0s 987us/step\n"
     ]
    }
   ],
   "source": [
    "y_pred = ann.predict(x_test)\n",
    "y_pred = (y_pred > 0.5)"
   ]
  },
  {
   "cell_type": "code",
   "execution_count": 64,
   "metadata": {},
   "outputs": [
    {
     "data": {
      "text/plain": [
       "0.851460221550856"
      ]
     },
     "execution_count": 64,
     "metadata": {},
     "output_type": "execute_result"
    }
   ],
   "source": [
    "#confusion matrix\n",
    "\n",
    "from sklearn.metrics import confusion_matrix, accuracy_score\n",
    "cm = confusion_matrix(y_test,y_pred)\n",
    "cm\n",
    "accuracy_score(y_test,y_pred)"
   ]
  },
  {
   "cell_type": "code",
   "execution_count": null,
   "metadata": {},
   "outputs": [],
   "source": []
  }
 ],
 "metadata": {
  "kernelspec": {
   "display_name": "Python 3",
   "language": "python",
   "name": "python3"
  },
  "language_info": {
   "codemirror_mode": {
    "name": "ipython",
    "version": 3
   },
   "file_extension": ".py",
   "mimetype": "text/x-python",
   "name": "python",
   "nbconvert_exporter": "python",
   "pygments_lexer": "ipython3",
   "version": "3.11.4"
  }
 },
 "nbformat": 4,
 "nbformat_minor": 2
}
